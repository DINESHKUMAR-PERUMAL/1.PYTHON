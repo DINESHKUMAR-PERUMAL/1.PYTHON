{
 "cells": [
  {
   "cell_type": "code",
   "execution_count": 3,
   "id": "12064378-4430-4ff1-99e7-f82fcae33fdc",
   "metadata": {},
   "outputs": [],
   "source": [
    " #create function\n",
    "def Subfields():\n",
    "    print(\"Sub-fields in AI are:\")\n",
    "    list=[\"Machine Learning\",\"Neural Networks\",\"Vision\",\"Robotics\",\"Speech Processing\",\"Natural Language Processing\"]\n",
    "    for i in list:\n",
    "        print(i)\n",
    "\n",
    "      "
   ]
  },
  {
   "cell_type": "code",
   "execution_count": 4,
   "id": "37028b38-d4d9-452a-af32-645ae51d6459",
   "metadata": {},
   "outputs": [
    {
     "name": "stdout",
     "output_type": "stream",
     "text": [
      "Sub-fields in AI are:\n",
      "Machine Learning\n",
      "Neural Networks\n",
      "Vision\n",
      "Robotics\n",
      "Speech Processing\n",
      "Natural Language Processing\n"
     ]
    }
   ],
   "source": [
    "Subfields()\n"
   ]
  },
  {
   "cell_type": "code",
   "execution_count": null,
   "id": "65de17be-a71a-476a-b7e2-bc8aaff59004",
   "metadata": {},
   "outputs": [],
   "source": [
    " #create function\n",
    "def OddEven():\n",
    "    num=int(input(\"Enter a number:\"))\n",
    "    if num%2==0:\n",
    "        print(num,\"is Even number\")\n",
    "        message=\"Even number\"\n",
    "    else:\n",
    "        print(num,\"is odd number\")\n",
    "        message=\"odd number\"\n",
    "        return message\n"
   ]
  },
  {
   "cell_type": "code",
   "execution_count": null,
   "id": "ab4f7f0e-b84c-47e4-a137-05374b0188f1",
   "metadata": {},
   "outputs": [],
   "source": [
    " OddEven()\n"
   ]
  },
  {
   "cell_type": "code",
   "execution_count": null,
   "id": "e8d150fc-fcf9-4b89-a122-865a41ff3464",
   "metadata": {},
   "outputs": [],
   "source": [
    "#create function\n",
    "def Elegible():\n",
    "    gender=input(\"Your Gender:\")\n",
    "    age=int(input(\"Your Age:\"))\n",
    "    if(age>=21):\n",
    "         print(\"ELEGIBLE\") \n",
    "         cate=\"ELEGIBLE\"\n",
    "    else:\n",
    "        print(\"NOT ELEGIBLE\")\n",
    "        cate=\"NOT ELEGIBLE\"\n",
    "        return cate\n",
    "\n",
    "    "
   ]
  },
  {
   "cell_type": "code",
   "execution_count": null,
   "id": "d5cca7e1-a58f-42e9-af7f-f16336ef610b",
   "metadata": {},
   "outputs": [],
   "source": [
    " Elegible()\n"
   ]
  },
  {
   "cell_type": "code",
   "execution_count": null,
   "id": "0cb1c94e-49c3-4dc2-9b7f-28749e3e40e2",
   "metadata": {},
   "outputs": [],
   "source": [
    "#create function\n",
    "def percentage():\n",
    "    m1=int(input(\"subject1=\"))\n",
    "    m2=int(input(\"subject2=\"))      \n",
    "    m3=int(input(\"subject3=\"))\n",
    "    m4=int(input(\"subject4=\"))\n",
    "    m5=int(input(\"subject5=\"))\n",
    "    Total=(m1+m2+m3+m4+m5)\n",
    "    print(\"Total:\",Total)\n",
    "    message=\"Total\"\n",
    "    percentage=(Total/5)\n",
    "    print(\"Percentage:\",percentage)\n",
    "    message=\"percentage\"\n",
    "    return message"
   ]
  },
  {
   "cell_type": "code",
   "execution_count": null,
   "id": "d2ae0d1b-c59e-4072-b145-fd594cdf6b6a",
   "metadata": {},
   "outputs": [],
   "source": [
    "percentage()"
   ]
  },
  {
   "cell_type": "code",
   "execution_count": null,
   "id": "642f1cba-b433-4926-952b-8d1561202b66",
   "metadata": {},
   "outputs": [],
   "source": [
    "#create function\n",
    "def triangle():\n",
    "    Height=int(input(\"Height:\"))\n",
    "    Breadth=int(input(\"Breadth:\"))\n",
    "    print(\"Area formula:(Height*Breadth)/2\")\n",
    "    area=((Height*Breadth)/2)\n",
    "    print(\"Area of triangle:\",area)\n",
    "    Height1=int(input(\"Height1:\"))\n",
    "    Height2=int(input(\"Height2:\"))\n",
    "    Breadth=int(input(\"Breadth:\"))\n",
    "    print(\"Perimeter formula:Height1+Height2+Breadth\")\n",
    "    Perimeter=(Height1+Height2+Breadth)\n",
    "    print(\"Perimeter Triangle:\",Perimeter)\n",
    "\n"
   ]
  },
  {
   "cell_type": "code",
   "execution_count": null,
   "id": "11e4f666-6cb2-42e5-983d-4e677e28ccf9",
   "metadata": {},
   "outputs": [],
   "source": [
    "triangle()"
   ]
  },
  {
   "cell_type": "code",
   "execution_count": null,
   "id": "363aaef8-acb5-4128-a9e0-108dff5e2aa3",
   "metadata": {},
   "outputs": [],
   "source": [
    "print(\"Sub-fields in AI are:\")\n",
    "list=[\"Machine Learning\",\"Neural Networks\",\"Vision\",\"Robotics\",\"Speech Processing\",\"Natural Language Processing\"]\n",
    "for i in list:\n",
    "    print(i)"
   ]
  },
  {
   "cell_type": "code",
   "execution_count": null,
   "id": "86678256-6711-461b-8177-86a21d5a96bd",
   "metadata": {},
   "outputs": [],
   "source": []
  }
 ],
 "metadata": {
  "kernelspec": {
   "display_name": "Python 3 (ipykernel)",
   "language": "python",
   "name": "python3"
  },
  "language_info": {
   "codemirror_mode": {
    "name": "ipython",
    "version": 3
   },
   "file_extension": ".py",
   "mimetype": "text/x-python",
   "name": "python",
   "nbconvert_exporter": "python",
   "pygments_lexer": "ipython3",
   "version": "3.11.7"
  }
 },
 "nbformat": 4,
 "nbformat_minor": 5
}
