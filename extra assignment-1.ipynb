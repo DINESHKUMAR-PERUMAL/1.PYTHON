{
 "cells": [
  {
   "cell_type": "code",
   "execution_count": 1,
   "id": "4a8c3096-168e-4876-864c-30589496de4b",
   "metadata": {},
   "outputs": [
    {
     "name": "stdout",
     "output_type": "stream",
     "text": [
      "HOPE AI\n"
     ]
    }
   ],
   "source": [
    "#print statement\n",
    "print(\"HOPE AI\") "
   ]
  },
  {
   "cell_type": "code",
   "execution_count": 2,
   "id": "2899b7cf-aeed-40a0-af98-e01730d5f8ed",
   "metadata": {},
   "outputs": [
    {
     "name": "stdin",
     "output_type": "stream",
     "text": [
      "Enter institute name?: HOPE AI\n"
     ]
    }
   ],
   "source": [
    "#buy input\n",
    "institute=input(\"Enter institute name?:\")"
   ]
  },
  {
   "cell_type": "code",
   "execution_count": 3,
   "id": "a9185a7a-a192-4280-801e-7a366ee9325a",
   "metadata": {},
   "outputs": [
    {
     "name": "stdin",
     "output_type": "stream",
     "text": [
      "Enter your name: Raj\n",
      "Enter age name: 15\n",
      "Enter school name: Guru school\n",
      "Enter your drgree: B.E CSE\n"
     ]
    }
   ],
   "source": [
    "#buy input\n",
    "name=input(\"Enter your name:\")\n",
    "age=input(\"Enter age name:\")\n",
    "school=input(\"Enter school name:\")\n",
    "drgree=input(\"Enter your drgree:\")\n"
   ]
  },
  {
   "cell_type": "code",
   "execution_count": 6,
   "id": "f6ecf793-0384-4000-ae28-216cf1d68f3e",
   "metadata": {},
   "outputs": [
    {
     "name": "stdin",
     "output_type": "stream",
     "text": [
      "a: 43\n",
      "b: 34\n"
     ]
    },
    {
     "name": "stdout",
     "output_type": "stream",
     "text": [
      "add= 77\n"
     ]
    }
   ],
   "source": [
    "#addition\n",
    "a=int(input(\"a:\"))\n",
    "b=int(input(\"b:\"))\n",
    "add=a+b\n",
    "print(\"add=\",add)\n"
   ]
  },
  {
   "cell_type": "code",
   "execution_count": 7,
   "id": "52a67c84-9516-43ec-9d1d-5967553dd7ab",
   "metadata": {},
   "outputs": [
    {
     "name": "stdin",
     "output_type": "stream",
     "text": [
      "a: 43\n",
      "b: 34\n"
     ]
    },
    {
     "name": "stdout",
     "output_type": "stream",
     "text": [
      "sub= 9\n"
     ]
    }
   ],
   "source": [
    "#subtraction\n",
    "a=int(input(\"a:\"))\n",
    "b=int(input(\"b:\"))\n",
    "sub=a-b\n",
    "print(\"sub=\",sub)"
   ]
  },
  {
   "cell_type": "code",
   "execution_count": 8,
   "id": "39cc03a4-a47e-4acf-a1f8-593cff14cd67",
   "metadata": {},
   "outputs": [
    {
     "name": "stdin",
     "output_type": "stream",
     "text": [
      "a: 63\n",
      "b: 97\n"
     ]
    },
    {
     "name": "stdout",
     "output_type": "stream",
     "text": [
      "mul= 6111\n"
     ]
    }
   ],
   "source": [
    "#multiplication\n",
    "a=int(input(\"a:\"))\n",
    "b=int(input(\"b:\"))\n",
    "mul=a*b\n",
    "print(\"mul=\",mul)"
   ]
  },
  {
   "cell_type": "code",
   "execution_count": 13,
   "id": "8fef0c7d-f26e-42dd-849c-f7458e55604b",
   "metadata": {},
   "outputs": [
    {
     "name": "stdin",
     "output_type": "stream",
     "text": [
      "a: 76\n",
      "b: 31\n"
     ]
    },
    {
     "name": "stdout",
     "output_type": "stream",
     "text": [
      "Float Div= 2.4516129032258065\n"
     ]
    }
   ],
   "source": [
    "#division\n",
    "a=int(input(\"a:\"))\n",
    "b=int(input(\"b:\"))\n",
    "div=a/b\n",
    "print(\"Float Div=\",div )"
   ]
  },
  {
   "cell_type": "code",
   "execution_count": 14,
   "id": "34f2f2ca-9e20-4a79-9370-69bc581ae679",
   "metadata": {},
   "outputs": [
    {
     "name": "stdin",
     "output_type": "stream",
     "text": [
      "a: 76\n",
      "b: 31\n"
     ]
    },
    {
     "name": "stdout",
     "output_type": "stream",
     "text": [
      "Floor Div= 2\n"
     ]
    }
   ],
   "source": [
    "# floor division\n",
    "a=int(input(\"a:\"))\n",
    "b=int(input(\"b:\"))\n",
    "div=a//b\n",
    "print(\"Floor Div=\",div )"
   ]
  },
  {
   "cell_type": "code",
   "execution_count": 15,
   "id": "33d228fd-3598-4f71-b903-7523891af694",
   "metadata": {},
   "outputs": [
    {
     "name": "stdin",
     "output_type": "stream",
     "text": [
      "a: 76\n",
      "b: 31\n"
     ]
    },
    {
     "name": "stdout",
     "output_type": "stream",
     "text": [
      "modulo= 14\n"
     ]
    }
   ],
   "source": [
    "#modulo\n",
    "a=int(input(\"a:\"))\n",
    "b=int(input(\"b:\"))\n",
    "modulo=a%b\n",
    "print(\"modulo=\",modulo )"
   ]
  },
  {
   "cell_type": "code",
   "execution_count": 16,
   "id": "d0d96892-48f3-4e6b-9786-52a6eba0a1ba",
   "metadata": {},
   "outputs": [
    {
     "name": "stdin",
     "output_type": "stream",
     "text": [
      "a: 4\n",
      "b: 4\n"
     ]
    },
    {
     "name": "stdout",
     "output_type": "stream",
     "text": [
      "power= 256\n"
     ]
    }
   ],
   "source": [
    "#power\n",
    "a=int(input(\"a:\"))\n",
    "b=int(input(\"b:\"))\n",
    "power=pow(a,b)\n",
    "print(\"power=\",power )"
   ]
  },
  {
   "cell_type": "code",
   "execution_count": null,
   "id": "dd23bf52-8f01-4b3a-baf5-f5d12afda9ec",
   "metadata": {},
   "outputs": [],
   "source": []
  }
 ],
 "metadata": {
  "kernelspec": {
   "display_name": "Python 3 (ipykernel)",
   "language": "python",
   "name": "python3"
  },
  "language_info": {
   "codemirror_mode": {
    "name": "ipython",
    "version": 3
   },
   "file_extension": ".py",
   "mimetype": "text/x-python",
   "name": "python",
   "nbconvert_exporter": "python",
   "pygments_lexer": "ipython3",
   "version": "3.11.7"
  }
 },
 "nbformat": 4,
 "nbformat_minor": 5
}
