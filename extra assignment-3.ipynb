{
 "cells": [
  {
   "cell_type": "code",
   "execution_count": 22,
   "id": "3828bd4b-2c6a-473a-9663-fa4cf6294634",
   "metadata": {},
   "outputs": [
    {
     "name": "stdin",
     "output_type": "stream",
     "text": [
      "enter the value: 10\n"
     ]
    },
    {
     "name": "stdout",
     "output_type": "stream",
     "text": [
      "correct\n"
     ]
    }
   ],
   "source": [
    "#print 'correct' if i==10\n",
    "i=int(input(\"enter the value:\"))\n",
    "if i==10:\n",
    "    print(\"correct\")\n",
    "else:\n",
    "    print(\"incorrect\")"
   ]
  },
  {
   "cell_type": "code",
   "execution_count": 27,
   "id": "4917b7fa-56bc-4d8a-93b3-6cf041fa300f",
   "metadata": {},
   "outputs": [
    {
     "name": "stdin",
     "output_type": "stream",
     "text": [
      "enter the password: yhgbgg\n"
     ]
    },
    {
     "name": "stdout",
     "output_type": "stream",
     "text": [
      "your password  incorrect\n"
     ]
    }
   ],
   "source": [
    "#check the password, using if and else\n",
    "i=input(\"enter the password:\")\n",
    "if i==\"HOPE@123\":\n",
    "    print(\"Your password is correct\")\n",
    "else:\n",
    "    print(\"your password  incorrect\")"
   ]
  },
  {
   "cell_type": "code",
   "execution_count": 41,
   "id": "79b72806-eba1-4134-b997-ae2fd3f07c1c",
   "metadata": {},
   "outputs": [
    {
     "name": "stdin",
     "output_type": "stream",
     "text": [
      "age: 20\n"
     ]
    },
    {
     "name": "stdout",
     "output_type": "stream",
     "text": [
      "adult\n"
     ]
    }
   ],
   "source": [
    "#catagory the people by their age like children, adult,citizen,senior citizen\n",
    "age=int(input(\"age:\"))\n",
    "if age>0 and age<18:\n",
    "    print(\"children\")\n",
    "elif age>18 and age<30:\n",
    "    print(\"adult\")\n",
    "elif age>=30 and age<59:\n",
    "    print(\"citizen\")\n",
    "else:\n",
    "    print(\"seniorcitizen\")\n"
   ]
  },
  {
   "cell_type": "code",
   "execution_count": 10,
   "id": "6ed8b58f-1b3a-4220-8589-17fb993a98ce",
   "metadata": {},
   "outputs": [
    {
     "name": "stdin",
     "output_type": "stream",
     "text": [
      "Enter the any number: -0.9\n"
     ]
    },
    {
     "name": "stdout",
     "output_type": "stream",
     "text": [
      "number is negtive\n"
     ]
    }
   ],
   "source": [
    "#find whether given number is postive or negative\n",
    "num=float(input(\"Enter the any number:\"))\n",
    "if num>=0:\n",
    "    print(\"number is postive\")\n",
    "elif num==0:\n",
    "    print(\"number is no postive\")\n",
    "else:\n",
    "    print(\"number is negtive\")"
   ]
  },
  {
   "cell_type": "code",
   "execution_count": 23,
   "id": "6897ee72-360c-4576-ad72-2c6ffe3ff4d2",
   "metadata": {},
   "outputs": [
    {
     "name": "stdin",
     "output_type": "stream",
     "text": [
      "Enter a number to check: 22\n"
     ]
    },
    {
     "name": "stdout",
     "output_type": "stream",
     "text": [
      "number is  not divisiable by 5\n"
     ]
    }
   ],
   "source": [
    "#check ehether the givennumber is divisible by 5\n",
    "num=int(input(\"Enter a number to check:\"))\n",
    "if num%5==0:\n",
    "    print(\"number is divisiable by 5\")\n",
    "else:\n",
    "    print(\"number is  not divisiable by 5\")\n",
    "\n",
    "\n",
    "\n"
   ]
  },
  {
   "cell_type": "code",
   "execution_count": null,
   "id": "6c7c4a89-d971-4d47-b666-0ddd508ec7a6",
   "metadata": {},
   "outputs": [],
   "source": []
  }
 ],
 "metadata": {
  "kernelspec": {
   "display_name": "Python 3 (ipykernel)",
   "language": "python",
   "name": "python3"
  },
  "language_info": {
   "codemirror_mode": {
    "name": "ipython",
    "version": 3
   },
   "file_extension": ".py",
   "mimetype": "text/x-python",
   "name": "python",
   "nbconvert_exporter": "python",
   "pygments_lexer": "ipython3",
   "version": "3.11.7"
  }
 },
 "nbformat": 4,
 "nbformat_minor": 5
}
