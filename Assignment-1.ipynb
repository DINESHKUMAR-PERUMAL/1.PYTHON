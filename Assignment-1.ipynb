{
 "cells": [
  {
   "cell_type": "code",
   "execution_count": 1,
   "id": "99c266a9-a055-418c-9ab3-2d2dcd231ea4",
   "metadata": {},
   "outputs": [
    {
     "name": "stdout",
     "output_type": "stream",
     "text": [
      "Welcome to Assignment-1\n"
     ]
    }
   ],
   "source": [
    "print(\"Welcome to Assignment-1\")"
   ]
  },
  {
   "cell_type": "code",
   "execution_count": 4,
   "id": "4496759f-a9e2-4769-a240-f8034b049fca",
   "metadata": {},
   "outputs": [
    {
     "name": "stdin",
     "output_type": "stream",
     "text": [
      "Num1: 10\n",
      "Num2: 30\n"
     ]
    },
    {
     "name": "stdout",
     "output_type": "stream",
     "text": [
      "Add= 40\n"
     ]
    }
   ],
   "source": [
    "Num1=int(input(\"Num1:\"))\n",
    "Num2=int(input(\"Num2:\"))\n",
    "Add=Num1+Num2\n",
    "print(\"Add=\",Add)"
   ]
  },
  {
   "cell_type": "code",
   "execution_count": 7,
   "id": "b20fede6-e73b-4f01-8238-3fd14e185561",
   "metadata": {},
   "outputs": [
    {
     "name": "stdout",
     "output_type": "stream",
     "text": [
      "Body Mass Index CheckUp\n"
     ]
    },
    {
     "name": "stdin",
     "output_type": "stream",
     "text": [
      "Enter the weight in kg: 55\n",
      "Enter the height in cm: 165\n"
     ]
    },
    {
     "name": "stdout",
     "output_type": "stream",
     "text": [
      "Body Mass Index is Normal: 20.2\n",
      " thanks for BMI checkup\n",
      "Next checkup after 6 months\n",
      "good life...\n",
      "good live...\n",
      "\n"
     ]
    }
   ],
   "source": [
    "# Body mass index\n",
    "print(\"Body Mass Index CheckUp\")\n",
    "weight= float(input(\"Enter the weight in kg:\"))\n",
    "height= float(input(\"Enter the height in cm:\"))\n",
    "bmi1=(weight/(height/100)**2)\n",
    "bmi=round(bmi1,1)\n",
    "if bmi<=18.5:\n",
    "    print( \"Body Mass Index is Under Weight:\",bmi)\n",
    "elif bmi<=24.9:\n",
    "    print(\"Body Mass Index is Normal:\",bmi)\n",
    "elif bmi<=29.9:\n",
    "    print(\"Body Mass Index is Over Weight:\",bmi)\n",
    "elif bmi<=34.9:\n",
    "    print(\"Body Mass Index is Very Overweight:\",bmi)\n",
    "elif bmi<=39.9:\n",
    "    print(\"Body Mass Index is Obesity\")\n",
    "else:\n",
    "        print(\"Body Mass Index is Extreme Obesity:\",bmi)\n",
    "print(''' thanks for BMI checkup\n",
    "Next checkup after 6 months\n",
    "good life...\n",
    "good live...\n",
    "''')\n",
    "\n"
   ]
  },
  {
   "cell_type": "code",
   "execution_count": null,
   "id": "1eac87d8-9b97-416e-8f22-14603c2a4369",
   "metadata": {},
   "outputs": [],
   "source": []
  }
 ],
 "metadata": {
  "kernelspec": {
   "display_name": "Python 3 (ipykernel)",
   "language": "python",
   "name": "python3"
  },
  "language_info": {
   "codemirror_mode": {
    "name": "ipython",
    "version": 3
   },
   "file_extension": ".py",
   "mimetype": "text/x-python",
   "name": "python",
   "nbconvert_exporter": "python",
   "pygments_lexer": "ipython3",
   "version": "3.11.7"
  }
 },
 "nbformat": 4,
 "nbformat_minor": 5
}
